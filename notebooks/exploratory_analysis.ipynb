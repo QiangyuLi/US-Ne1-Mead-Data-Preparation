{
 "cells": [
  {
   "cell_type": "code",
   "execution_count": null,
   "id": "31302f5d",
   "metadata": {},
   "outputs": [
    {
     "name": "stdout",
     "output_type": "stream",
     "text": [
      "            Date  Yield (bu/acre)  Yield (Mg/ha)  \\\n",
      "0     2016-09-22           202.10          12.69   \n",
      "1     2017-10-25           225.00          14.13   \n",
      "2     2017-10-26           225.00          14.13   \n",
      "3     2021-10-19           226.70          14.24   \n",
      "4     2018-10-31           135.00           8.48   \n",
      "5     2014-10-29           177.50          11.15   \n",
      "6     2015-10-26           189.00          11.87   \n",
      "7  2020-09-15/17           218.62          13.73   \n",
      "\n",
      "                 Moisture Content  \n",
      "0  15.5% basis (32.1% at harvest)  \n",
      "1                     15.5% basis  \n",
      "2                     15.5% basis  \n",
      "3                   Not specified  \n",
      "4                     15.5% basis  \n",
      "5                     15.5% basis  \n",
      "6                     15.5% basis  \n",
      "7                     Dry bushels  \n",
      "\n",
      "Formatted Table:\n",
      "     Date      Yield (bu/acre)  Yield (Mg/ha)        Moisture Content       \n",
      "   2016-09-22      202.10          12.69      15.5% basis (32.1% at harvest)\n",
      "   2017-10-25      225.00          14.13                         15.5% basis\n",
      "   2017-10-26      225.00          14.13                         15.5% basis\n",
      "   2021-10-19      226.70          14.24                       Not specified\n",
      "   2018-10-31      135.00           8.48                         15.5% basis\n",
      "   2014-10-29      177.50          11.15                         15.5% basis\n",
      "   2015-10-26      189.00          11.87                         15.5% basis\n",
      "2020-09-15/17      218.62          13.73                         Dry bushels\n"
     ]
    }
   ],
   "source": [
    "import pandas as pd\n",
    "\n",
    "# Create the yield data dictionary\n",
    "yield_data = {\n",
    "    'Date': ['2016-09-22', '2017-10-25', '2017-10-26', '2021-10-19', '2018-10-31', '2014-10-29', '2015-10-26', '2020-09-15/17'],\n",
    "    'Yield (bu/acre)': [202.1, 225.0, 225.0, 226.7, 135.0, 177.5, 189.0, 218.62],\n",
    "    'Yield (Mg/ha)': [12.69, 14.13, 14.13, 14.24, 8.48, 11.15, 11.87, 13.73],\n",
    "    'Moisture Content': ['15.5% basis (32.1% at harvest)', '15.5% basis', '15.5% basis', 'Not specified', '15.5% basis', '15.5% basis', '15.5% basis', 'Dry bushels']\n",
    "}\n",
    "\n",
    "# Create DataFrame\n",
    "yield_df = pd.DataFrame(yield_data)\n",
    "\n",
    "# Print the table\n",
    "print(yield_df)\n",
    "\n",
    "# Optional: Format the table with prettier formatting\n",
    "print(\"\\nFormatted Table:\")\n",
    "pd.set_option('display.max_columns', None)\n",
    "pd.set_option('display.width', 1000)\n",
    "pd.set_option('display.colheader_justify', 'center')\n",
    "print(yield_df.to_string(index=False))"
   ]
  }
 ],
 "metadata": {
  "kernelspec": {
   "display_name": "Python 3",
   "language": "python",
   "name": "python3"
  },
  "language_info": {
   "codemirror_mode": {
    "name": "ipython",
    "version": 3
   },
   "file_extension": ".py",
   "mimetype": "text/x-python",
   "name": "python",
   "nbconvert_exporter": "python",
   "pygments_lexer": "ipython3",
   "version": "3.12.1"
  }
 },
 "nbformat": 4,
 "nbformat_minor": 5
}
